[33mcommit daee81d58bece6b8b094a0cdac78baef772106c6[m[33m ([m[1;36mHEAD -> [m[1;32mmain[m[33m, [m[1;31morigin/main[m[33m, [m[1;31morigin/HEAD[m[33m)[m
Author: jabrahamvm <abrahamvillalba00@gmail.com>
Date:   Mon Feb 13 20:20:44 2023 -0700

    Selection mechanism descripción

[33mcommit 0c2f6a6f587c5d5da2c2d1139c50d28482493361[m
Author: jabrahamvm <abrahamvillalba00@gmail.com>
Date:   Mon Feb 13 19:57:49 2023 -0700

    Base de la introducción

[33mcommit 516ff9a3dda13a440764dd05e14d7b8178bc7c75[m
Author: unknown <andresbd01@gmail.com>
Date:   Mon Feb 13 17:50:28 2023 -0700

    Primera actualización

[33mcommit f57dbf99de88ce3634b86718cbf7a83298e2965a[m
Author: jabrahamvm <abrahamvillalba00@gmail.com>
Date:   Mon Feb 13 10:28:24 2023 -0700

    Estructura principal del proyecto

[33mcommit 70c9edb1d35b52c60e15555df5bce89a15442444[m
Author: Abraham Villalba <55765813+jabrahamvm@users.noreply.github.com>
Date:   Mon Feb 13 10:14:32 2023 -0700

    Initial commit
[33mcommit 61b9d14c26d2ad8df84225ccfa15fd7a5ee9a1af[m[33m ([m[1;36mHEAD -> [m[1;32mmain[m[33m, [m[1;31morigin/main[m[33m, [m[1;31morigin/HEAD[m[33m)[m
Author: unknown <andresbd01@gmail.com>
Date:   Mon Feb 13 22:10:14 2023 -0700

    Funciones edit

[33mcommit daee81d58bece6b8b094a0cdac78baef772106c6[m
Author: jabrahamvm <abrahamvillalba00@gmail.com>
Date:   Mon Feb 13 20:20:44 2023 -0700

    Selection mechanism descripción

[33mcommit 0c2f6a6f587c5d5da2c2d1139c50d28482493361[m
Author: jabrahamvm <abrahamvillalba00@gmail.com>
Date:   Mon Feb 13 19:57:49 2023 -0700

    Base de la introducción

[33mcommit 516ff9a3dda13a440764dd05e14d7b8178bc7c75[m
Author: unknown <andresbd01@gmail.com>
Date:   Mon Feb 13 17:50:28 2023 -0700

    Primera actualización

[33mcommit f57dbf99de88ce3634b86718cbf7a83298e2965a[m
Author: jabrahamvm <abrahamvillalba00@gmail.com>
Date:   Mon Feb 13 10:28:24 2023 -0700

    Estructura principal del proyecto

[33mcommit 70c9edb1d35b52c60e15555df5bce89a15442444[m
Author: Abraham Villalba <55765813+jabrahamvm@users.noreply.github.com>
Date:   Mon Feb 13 10:14:32 2023 -0700

    Initial commit
