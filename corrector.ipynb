{
 "cells": [
  {
   "attachments": {},
   "cell_type": "markdown",
   "metadata": {},
   "source": [
    "## Procesamiento de Lenguaje Natural\n",
    "\n",
    "*MINI-TASK \\#2* \n",
    "\n",
    "# ***Corrector ortográfico de P. Norvig***\n",
    "\n",
    "### **Equipo:**\n",
    "\n",
    "- Burruel Durán Luis Andrés\n",
    "-\n",
    "- Villalba Miranda Jesús Abraham\n",
    "\n",
    "**Fuentes**\n",
    "* [How to Write a Spelling Corrector (Peter Norvig) ](https://norvig.com/spell-correct.html)\n",
    "---"
   ]
  },
  {
   "attachments": {},
   "cell_type": "markdown",
   "metadata": {},
   "source": [
    "## **I. Introducción**\n",
    "\n",
    "En el mundo en el que siempre estamos redactando información, sease mediante la generación de documentos o por la comunicación por medio de mensajes, una de las caracteristicas más sobresalientes de los editores de texto que utilizamos, es la capacidad de corregir aquellas palabras que escribimos incorrectamente.\n",
    "\n",
    "[Corrector ortográfico ](https://es.wikipedia.org/wiki/Corrector_ortogr%C3%A1fico#:~:text=Un%20corrector%20ortogr%C3%A1fico%20es%2C%20en,al%20usuario%20en%20su%20escritura.)\n",
    " > Un *corrector ortográfico* es una aplicación de software que se utiliza para anlizar textos con el fin de detectar y, de forma automatica o manual, corregir faltas ortograficas ayudando al usuario en su escritura.\n",
    "\n",
    "### ¿Cómo funciona un corrector ortográfico?\n",
    "Un corrector ortográfico sigue el siguiente proceso:\n",
    " 1. **Identifica la palabra incorrecta**\n",
    "    \n",
    "    Identificamos que una palabra es incorrecta, es decir, no se encuentra dentro de nuestro vocabulario.\n",
    "\n",
    " 2. **Se calculan las palabras a 1, 2 o 3 de distancia**\n",
    "    \n",
    "    Para esto se utiliza el algoritmo de **distancia mínima de edición**, lo que nos ayuda a tener una noción de similaridad entre dos palabras. \n",
    "    \n",
    "    La **distancia minima de edición** entre dos palabras la podemos definir como el minimo número de operaciones de edición para transformar una cadena de caracteres (*source*) en otra (*target*).\n",
    "\n",
    "    Las operaciones de edición pueden ser inserción, eliminación y remplazo de un caracter. A estas operaciones se les asigna un peso y basado en este, se obtiene la distancia.\n",
    "\n",
    " 3. **Se filtran los posibles candidatos**\n",
    "    \n",
    "    De las palabras obtenidas en el paso anterior, se filtran los posibles candidatos de manera que se encuentren dentro de nuestro vocabulario.\n",
    "    \n",
    " 4. **Se calcula el más probable en funcion del contexto**\n",
    "\n",
    "    Intentamos encontrar la corrección *c*, de todos los candidatos, de forma que maximize la probabilidad de que *c* es la corrección (palabra) correcta, dada la palabra incorrecta original. Para obtener dicha corrección, nos basamos en nuestro corpus.\n",
    "\n",
    "Durante el resto del documento, explicaremos como funciona nuestra implementación de un corrector ortografico basada en la libreta realizada por *P. Norvig*. Las secciones las podemos dividir en: II. ¿Cómo funciona?; en donde explicaremos como implementamos el corrector; III. Evaluación y IV. Conclusiones."
   ]
  },
  {
   "attachments": {},
   "cell_type": "markdown",
   "metadata": {},
   "source": [
    "## **II. ¿Cómo funciona?**\n"
   ]
  },
  {
   "attachments": {},
   "cell_type": "markdown",
   "metadata": {},
   "source": [
    "### `Selection Mechanism`\n",
    "\n",
    "---\n",
    "\n",
    "Elegimos el candidato con mayor probabilidad"
   ]
  },
  {
   "cell_type": "code",
   "execution_count": null,
   "metadata": {},
   "outputs": [],
   "source": []
  },
  {
   "attachments": {},
   "cell_type": "markdown",
   "metadata": {},
   "source": [
    "### `Candidate Model`\n",
    "\n",
    "---"
   ]
  },
  {
   "cell_type": "code",
   "execution_count": null,
   "metadata": {},
   "outputs": [],
   "source": [
    "def edits1(word):\n",
    "    \"All edits that are one edit away from `word`.\"\n",
    "    letters    = 'abcdefghijklmñnopqrstuvwxyzáéíóú'\n",
    "    splits     = [(word[:i], word[i:])    for i in range(len(word))]\n",
    "    deletes    = [L + R[1:]               for L, R in splits if R]\n",
    "    replaces   = [L + c + R[1:]           for L, R in splits if R for c in letters]\n",
    "    inserts    = [L + c + R               for L, R in splits for c in letters]\n",
    "    return set(deletes +  replaces + inserts)\n",
    "\n",
    "def edits2(word): return (e2 for e1 in edits1(word) for e2 in edits1(e1))"
   ]
  },
  {
   "attachments": {},
   "cell_type": "markdown",
   "metadata": {},
   "source": [
    "### `Language Model`: $P(c)$\n",
    "\n",
    "---"
   ]
  },
  {
   "cell_type": "code",
   "execution_count": null,
   "metadata": {},
   "outputs": [],
   "source": []
  },
  {
   "attachments": {},
   "cell_type": "markdown",
   "metadata": {},
   "source": [
    "### `Error Model`: $P(w|c)$\n",
    "\n",
    "---"
   ]
  },
  {
   "cell_type": "code",
   "execution_count": null,
   "metadata": {},
   "outputs": [],
   "source": []
  },
  {
   "attachments": {},
   "cell_type": "markdown",
   "metadata": {},
   "source": [
    "## **III. Evaluación**"
   ]
  },
  {
   "cell_type": "code",
   "execution_count": null,
   "metadata": {},
   "outputs": [],
   "source": []
  },
  {
   "attachments": {},
   "cell_type": "markdown",
   "metadata": {},
   "source": [
    "## **IV. Conclusiones**"
   ]
  }
 ],
 "metadata": {
  "kernelspec": {
   "display_name": "Python 3",
   "language": "python",
   "name": "python3"
  },
  "language_info": {
   "name": "python",
   "version": "3.10.10"
  },
  "orig_nbformat": 4,
  "vscode": {
   "interpreter": {
    "hash": "fe1b9da179bb4ed9c15fe7601367048b871a05b5329d96fc03660d97dfb6bd3d"
   }
  }
 },
 "nbformat": 4,
 "nbformat_minor": 2
}
